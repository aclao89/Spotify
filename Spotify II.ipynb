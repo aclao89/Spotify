{
 "cells": [
  {
   "cell_type": "code",
   "execution_count": 2,
   "metadata": {},
   "outputs": [],
   "source": [
    "import pandas as pd \n",
    "import numpy as np \n",
    "import requests"
   ]
  },
  {
   "cell_type": "markdown",
   "metadata": {},
   "source": [
    "### Load Streaming and Library Data "
   ]
  },
  {
   "cell_type": "code",
   "execution_count": 6,
   "metadata": {},
   "outputs": [
    {
     "data": {
      "text/plain": [
       "endTime       object\n",
       "artistName    object\n",
       "trackName     object\n",
       "msPlayed       int64\n",
       "dtype: object"
      ]
     },
     "execution_count": 6,
     "metadata": {},
     "output_type": "execute_result"
    }
   ],
   "source": [
    "#Read in our streaming files \n",
    "df_stream0 = pd.read_json('Data/StreamingHistory0.json')\n",
    "df_stream1 = pd.read_json('Data/StreamingHistory1.json')\n",
    "\n",
    "#merge the streaming dataframes \n",
    "\n",
    "df_streams = pd.concat([df_stream0, df_stream1])\n",
    "\n",
    "df_streams.dtypes"
   ]
  },
  {
   "cell_type": "code",
   "execution_count": 13,
   "metadata": {},
   "outputs": [
    {
     "data": {
      "text/html": [
       "<div>\n",
       "<style scoped>\n",
       "    .dataframe tbody tr th:only-of-type {\n",
       "        vertical-align: middle;\n",
       "    }\n",
       "\n",
       "    .dataframe tbody tr th {\n",
       "        vertical-align: top;\n",
       "    }\n",
       "\n",
       "    .dataframe thead th {\n",
       "        text-align: right;\n",
       "    }\n",
       "</style>\n",
       "<table border=\"1\" class=\"dataframe\">\n",
       "  <thead>\n",
       "    <tr style=\"text-align: right;\">\n",
       "      <th></th>\n",
       "      <th>endTime</th>\n",
       "      <th>artistName</th>\n",
       "      <th>trackName</th>\n",
       "      <th>msPlayed</th>\n",
       "      <th>UniqueID</th>\n",
       "    </tr>\n",
       "  </thead>\n",
       "  <tbody>\n",
       "    <tr>\n",
       "      <th>0</th>\n",
       "      <td>2020-10-15 00:12</td>\n",
       "      <td>THEY.</td>\n",
       "      <td>What I Know Now (feat. Wiz Khalifa)</td>\n",
       "      <td>3715</td>\n",
       "      <td>THEY.: What I Know Now (feat. Wiz Khalifa)</td>\n",
       "    </tr>\n",
       "    <tr>\n",
       "      <th>1</th>\n",
       "      <td>2020-10-15 00:12</td>\n",
       "      <td>Sam Smith</td>\n",
       "      <td>My Oasis (feat. Burna Boy)</td>\n",
       "      <td>24725</td>\n",
       "      <td>Sam Smith: My Oasis (feat. Burna Boy)</td>\n",
       "    </tr>\n",
       "    <tr>\n",
       "      <th>2</th>\n",
       "      <td>2020-10-15 00:12</td>\n",
       "      <td>Sam Smith</td>\n",
       "      <td>My Oasis (feat. Burna Boy)</td>\n",
       "      <td>1207</td>\n",
       "      <td>Sam Smith: My Oasis (feat. Burna Boy)</td>\n",
       "    </tr>\n",
       "    <tr>\n",
       "      <th>3</th>\n",
       "      <td>2020-10-15 00:15</td>\n",
       "      <td>Cheat Codes</td>\n",
       "      <td>Balenciaga</td>\n",
       "      <td>173706</td>\n",
       "      <td>Cheat Codes: Balenciaga</td>\n",
       "    </tr>\n",
       "    <tr>\n",
       "      <th>4</th>\n",
       "      <td>2020-10-15 00:16</td>\n",
       "      <td>ARTY</td>\n",
       "      <td>Rebound - Radio Edit</td>\n",
       "      <td>85740</td>\n",
       "      <td>ARTY: Rebound - Radio Edit</td>\n",
       "    </tr>\n",
       "  </tbody>\n",
       "</table>\n",
       "</div>"
      ],
      "text/plain": [
       "            endTime   artistName                            trackName  \\\n",
       "0  2020-10-15 00:12        THEY.  What I Know Now (feat. Wiz Khalifa)   \n",
       "1  2020-10-15 00:12    Sam Smith           My Oasis (feat. Burna Boy)   \n",
       "2  2020-10-15 00:12    Sam Smith           My Oasis (feat. Burna Boy)   \n",
       "3  2020-10-15 00:15  Cheat Codes                           Balenciaga   \n",
       "4  2020-10-15 00:16         ARTY                 Rebound - Radio Edit   \n",
       "\n",
       "   msPlayed                                    UniqueID  \n",
       "0      3715  THEY.: What I Know Now (feat. Wiz Khalifa)  \n",
       "1     24725       Sam Smith: My Oasis (feat. Burna Boy)  \n",
       "2      1207       Sam Smith: My Oasis (feat. Burna Boy)  \n",
       "3    173706                     Cheat Codes: Balenciaga  \n",
       "4     85740                  ARTY: Rebound - Radio Edit  "
      ]
     },
     "execution_count": 13,
     "metadata": {},
     "output_type": "execute_result"
    }
   ],
   "source": [
    "#Create an \"UniqueID\" by concatenating artistName and trackName\n",
    "\n",
    "df_streams['UniqueID'] = df_streams['artistName'] + \": \" + df_streams['trackName']\n",
    "\n",
    "df_streams.head()"
   ]
  },
  {
   "cell_type": "code",
   "execution_count": 16,
   "metadata": {},
   "outputs": [
    {
     "data": {
      "text/html": [
       "<div>\n",
       "<style scoped>\n",
       "    .dataframe tbody tr th:only-of-type {\n",
       "        vertical-align: middle;\n",
       "    }\n",
       "\n",
       "    .dataframe tbody tr th {\n",
       "        vertical-align: top;\n",
       "    }\n",
       "\n",
       "    .dataframe thead th {\n",
       "        text-align: right;\n",
       "    }\n",
       "</style>\n",
       "<table border=\"1\" class=\"dataframe\">\n",
       "  <thead>\n",
       "    <tr style=\"text-align: right;\">\n",
       "      <th></th>\n",
       "      <th>artist</th>\n",
       "      <th>album</th>\n",
       "      <th>track</th>\n",
       "      <th>uri</th>\n",
       "      <th>UniqueID</th>\n",
       "      <th>track_uri</th>\n",
       "    </tr>\n",
       "  </thead>\n",
       "  <tbody>\n",
       "    <tr>\n",
       "      <th>0</th>\n",
       "      <td>Slim</td>\n",
       "      <td>Love's Crazy</td>\n",
       "      <td>So Fly (feat. Yung Joc)</td>\n",
       "      <td>spotify:track:2wmBKUx62Px6my6U1mYw18</td>\n",
       "      <td>Slim: So Fly (feat. Yung Joc)</td>\n",
       "      <td>2wmBKUx62Px6my6U1mYw18</td>\n",
       "    </tr>\n",
       "    <tr>\n",
       "      <th>1</th>\n",
       "      <td>JACKBOYS</td>\n",
       "      <td>JACKBOYS</td>\n",
       "      <td>JACKBOYS</td>\n",
       "      <td>spotify:track:62zKJrpbLxz6InR3tGyr7o</td>\n",
       "      <td>JACKBOYS: JACKBOYS</td>\n",
       "      <td>62zKJrpbLxz6InR3tGyr7o</td>\n",
       "    </tr>\n",
       "    <tr>\n",
       "      <th>2</th>\n",
       "      <td>Calvin Harris</td>\n",
       "      <td>18 Months</td>\n",
       "      <td>Thinking About You (feat. Ayah Marar)</td>\n",
       "      <td>spotify:track:1KtD0xaLAikgIt5tPbteZQ</td>\n",
       "      <td>Calvin Harris: Thinking About You (feat. Ayah ...</td>\n",
       "      <td>1KtD0xaLAikgIt5tPbteZQ</td>\n",
       "    </tr>\n",
       "    <tr>\n",
       "      <th>3</th>\n",
       "      <td>Foo Fighters</td>\n",
       "      <td>Best Of You</td>\n",
       "      <td>Best of You</td>\n",
       "      <td>spotify:track:4nUM7pGcTUK2pY1d2LybrT</td>\n",
       "      <td>Foo Fighters: Best of You</td>\n",
       "      <td>4nUM7pGcTUK2pY1d2LybrT</td>\n",
       "    </tr>\n",
       "    <tr>\n",
       "      <th>4</th>\n",
       "      <td>Laidback Luke</td>\n",
       "      <td>Bae (feat. Gina Turner)</td>\n",
       "      <td>Bae</td>\n",
       "      <td>spotify:track:4zxhd49IbXASiDuIXmWm5o</td>\n",
       "      <td>Laidback Luke: Bae</td>\n",
       "      <td>4zxhd49IbXASiDuIXmWm5o</td>\n",
       "    </tr>\n",
       "  </tbody>\n",
       "</table>\n",
       "</div>"
      ],
      "text/plain": [
       "          artist                    album  \\\n",
       "0           Slim             Love's Crazy   \n",
       "1       JACKBOYS                 JACKBOYS   \n",
       "2  Calvin Harris                18 Months   \n",
       "3   Foo Fighters              Best Of You   \n",
       "4  Laidback Luke  Bae (feat. Gina Turner)   \n",
       "\n",
       "                                   track  \\\n",
       "0                So Fly (feat. Yung Joc)   \n",
       "1                               JACKBOYS   \n",
       "2  Thinking About You (feat. Ayah Marar)   \n",
       "3                            Best of You   \n",
       "4                                    Bae   \n",
       "\n",
       "                                    uri  \\\n",
       "0  spotify:track:2wmBKUx62Px6my6U1mYw18   \n",
       "1  spotify:track:62zKJrpbLxz6InR3tGyr7o   \n",
       "2  spotify:track:1KtD0xaLAikgIt5tPbteZQ   \n",
       "3  spotify:track:4nUM7pGcTUK2pY1d2LybrT   \n",
       "4  spotify:track:4zxhd49IbXASiDuIXmWm5o   \n",
       "\n",
       "                                            UniqueID               track_uri  \n",
       "0                      Slim: So Fly (feat. Yung Joc)  2wmBKUx62Px6my6U1mYw18  \n",
       "1                                 JACKBOYS: JACKBOYS  62zKJrpbLxz6InR3tGyr7o  \n",
       "2  Calvin Harris: Thinking About You (feat. Ayah ...  1KtD0xaLAikgIt5tPbteZQ  \n",
       "3                          Foo Fighters: Best of You  4nUM7pGcTUK2pY1d2LybrT  \n",
       "4                                 Laidback Luke: Bae  4zxhd49IbXASiDuIXmWm5o  "
      ]
     },
     "execution_count": 16,
     "metadata": {},
     "output_type": "execute_result"
    }
   ],
   "source": [
    "# Read in library data \n",
    "\n",
    "df_library = pd.read_json('Data/YourLibrary1.json')\n",
    "\n",
    "# Created unique column, same as for our stream dataframe\n",
    "\n",
    "df_library['UniqueID'] = df_library['artist'] + \": \" + df_library['track']\n",
    "\n",
    "split = df_library['uri'].str.split(\":\", expand=True)\n",
    "\n",
    "df_library['track_uri'] = split[2]\n",
    "\n",
    "df_library.head()"
   ]
  },
  {
   "cell_type": "code",
   "execution_count": 22,
   "metadata": {},
   "outputs": [
    {
     "name": "stdout",
     "output_type": "stream",
     "text": [
      "<class 'pandas.core.frame.DataFrame'>\n",
      "Int64Index: 9239 entries, 0 to 17981\n",
      "Data columns (total 7 columns):\n",
      " #   Column      Non-Null Count  Dtype \n",
      "---  ------      --------------  ----- \n",
      " 0   endTime     9239 non-null   object\n",
      " 1   artistName  9239 non-null   object\n",
      " 2   trackName   9239 non-null   object\n",
      " 3   msPlayed    9239 non-null   int64 \n",
      " 4   UniqueID    9239 non-null   object\n",
      " 5   album       9239 non-null   object\n",
      " 6   track_uri   9239 non-null   object\n",
      "dtypes: int64(1), object(6)\n",
      "memory usage: 577.4+ KB\n"
     ]
    }
   ],
   "source": [
    "#Copy the df_streams to another df - called df_tableau\n",
    "\n",
    "df_tableau = df_streams.copy()\n",
    "\n",
    "#Since we created new \"UniqueID\" for both dataframes, it will be used for our merge\n",
    "\n",
    "df_tableau =  pd.merge(df_tableau, df_library[['album', 'UniqueID', 'track_uri']], how='left', on=['UniqueID'])\n",
    "\n",
    "#Drop all songs that arent in our library dataframe \n",
    "\n",
    "df_tableau = df_tableau[df_tableau['track_uri'].notna()]\n",
    "df_tableau.info()"
   ]
  },
  {
   "cell_type": "markdown",
   "metadata": {},
   "source": [
    "### Spotify Credentials"
   ]
  },
  {
   "cell_type": "code",
   "execution_count": 21,
   "metadata": {},
   "outputs": [],
   "source": [
    "# save your IDs from new project in Spotify Developer Dashboard\n",
    "CLIENT_ID = ''\n",
    "CLIENT_SECRET = ''"
   ]
  },
  {
   "cell_type": "markdown",
   "metadata": {},
   "source": [
    "### Generate access token with requests "
   ]
  },
  {
   "cell_type": "code",
   "execution_count": null,
   "metadata": {},
   "outputs": [],
   "source": [
    "#authentication URL\n",
    "AUTH_url =- 'https://accounts.spotify.com/api/token'\n",
    "\n",
    "#POST\n",
    "auth_response = requests.post(AUTH_url, {\n",
    "    'grant_type': 'client_credentials',\n",
    "    'client_id': CLIENT_ID,\n",
    "    'client_secret':CLIENT_SECRET\n",
    "})"
   ]
  }
 ],
 "metadata": {
  "kernelspec": {
   "display_name": "Python 3",
   "language": "python",
   "name": "python3"
  },
  "language_info": {
   "codemirror_mode": {
    "name": "ipython",
    "version": 3
   },
   "file_extension": ".py",
   "mimetype": "text/x-python",
   "name": "python",
   "nbconvert_exporter": "python",
   "pygments_lexer": "ipython3",
   "version": "3.8.5"
  }
 },
 "nbformat": 4,
 "nbformat_minor": 4
}
